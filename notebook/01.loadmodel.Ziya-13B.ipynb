{
 "cells": [
  {
   "cell_type": "code",
   "execution_count": 1,
   "id": "7b5a3768-9c1e-4469-af23-d8f505575833",
   "metadata": {},
   "outputs": [
    {
     "data": {
      "application/vnd.jupyter.widget-view+json": {
       "model_id": "c6f5637ee63e4e26a86f1e4b1139462a",
       "version_major": 2,
       "version_minor": 0
      },
      "text/plain": [
       "Loading checkpoint shards:   0%|          | 0/3 [00:00<?, ?it/s]"
      ]
     },
     "metadata": {},
     "output_type": "display_data"
    },
    {
     "name": "stderr",
     "output_type": "stream",
     "text": [
      "You are using the legacy behaviour of the <class 'transformers.models.llama.tokenization_llama.LlamaTokenizer'>. This means that tokens that come after special tokens will not be properly handled. We recommend you to read the related pull request available at https://github.com/huggingface/transformers/pull/24565\n"
     ]
    }
   ],
   "source": [
    "from transformers import AutoTokenizer\n",
    "from transformers import LlamaForCausalLM\n",
    "import torch\n",
    "\n",
    "device = torch.device(\"cuda\")\n",
    "ckpt = '/opt/Data/ModelWeight/IDEA-CCNL/Ziya-LLaMA-13B'\n",
    "\n",
    "model = LlamaForCausalLM.from_pretrained(ckpt, torch_dtype=torch.float16, device_map=\"cuda:0\", load_in_8bit=True)\n",
    "tokenizer = AutoTokenizer.from_pretrained(ckpt, use_fast=False)"
   ]
  },
  {
   "cell_type": "code",
   "execution_count": 2,
   "id": "c9685a90-b633-4365-a59a-0472c88be2c6",
   "metadata": {},
   "outputs": [
    {
     "name": "stdout",
     "output_type": "stream",
     "text": [
      "<s> <human> :帮我写一份去深圳的旅游计划,按照7天的时长规划 <bot>  : 好的，以下是为期7天的深圳旅游计划：\n",
      "猛虎山公园：参观著名的猛虎山公园，观赏壮丽的山景和瀑布。\n",
      "世界之窗：参观世界之窗，了解不同国家和文化的风情。\n",
      "深圳湾公园：参观深圳湾公园，享受美丽的海滩和休闲娱乐设施。\n",
      "华强北：参观华强北电子市场，购买各种电子产品和数码产品。\n",
      "东海岸：前往东海岸，参观深圳市最美的海滨景观之一。\n",
      "莲花山公园：参观莲花山公园，欣赏美丽的花园和湖泊景观。\n",
      "深圳市民中心：参观深圳市民中心，了解深圳市的历史和发展。</s>\n"
     ]
    }
   ],
   "source": [
    "query=\"帮我写一份去深圳的旅游计划,按照7天的时长规划\"\n",
    "inputs = '<human>:' + query.strip() + '\\n<bot>:'\n",
    "      \n",
    "input_ids = tokenizer(inputs, return_tensors=\"pt\").input_ids.to(device)\n",
    "generate_ids = model.generate(\n",
    "            input_ids,\n",
    "            max_new_tokens=1024, \n",
    "            do_sample = True, \n",
    "            top_p = 0.85, \n",
    "            temperature = 1.0, \n",
    "            repetition_penalty=1., \n",
    "            eos_token_id=2, \n",
    "            bos_token_id=1, \n",
    "            pad_token_id=0)\n",
    "output = tokenizer.batch_decode(generate_ids)[0]\n",
    "print(output)"
   ]
  }
 ],
 "metadata": {
  "kernelspec": {
   "display_name": "Python 3 (ipykernel)",
   "language": "python",
   "name": "python3"
  },
  "language_info": {
   "codemirror_mode": {
    "name": "ipython",
    "version": 3
   },
   "file_extension": ".py",
   "mimetype": "text/x-python",
   "name": "python",
   "nbconvert_exporter": "python",
   "pygments_lexer": "ipython3",
   "version": "3.11.2"
  }
 },
 "nbformat": 4,
 "nbformat_minor": 5
}
