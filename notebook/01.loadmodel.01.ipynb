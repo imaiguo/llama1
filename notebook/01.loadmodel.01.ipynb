{
 "cells": [
  {
   "cell_type": "markdown",
   "id": "572db606-fa81-41a5-8cef-5874f65b5b15",
   "metadata": {},
   "source": [
    "# llama1 模型加载\n",
    "\n",
    "https://huggingface.co/docs/transformers/main/en/model_doc/llama\n",
    "\n",
    "max_length = 2k"
   ]
  },
  {
   "cell_type": "markdown",
   "id": "5d0730c7-53fc-4cbf-b362-da40834a6448",
   "metadata": {},
   "source": [
    "## 1. llama模型初始化"
   ]
  },
  {
   "cell_type": "code",
   "execution_count": 1,
   "id": "a0282faf-886a-4e5d-add8-c06b200f97b3",
   "metadata": {},
   "outputs": [],
   "source": [
    "from transformers import LlamaModel, LlamaConfig\n",
    "\n",
    "# Initializing a LLaMA llama-7b style configuration\n",
    "configuration = LlamaConfig()\n",
    "\n",
    "# Initializing a model from the llama-7b style configuration\n",
    "modelConfig = LlamaModel(configuration)\n",
    "\n",
    "# Accessing the model configuration\n",
    "configuration = modelConfig.config"
   ]
  },
  {
   "cell_type": "code",
   "execution_count": 4,
   "id": "e0837027-6f33-4e01-aaed-5ac6416013d1",
   "metadata": {},
   "outputs": [
    {
     "name": "stdout",
     "output_type": "stream",
     "text": [
      "LlamaConfig {\n",
      "  \"attention_bias\": false,\n",
      "  \"attention_dropout\": 0.0,\n",
      "  \"bos_token_id\": 1,\n",
      "  \"eos_token_id\": 2,\n",
      "  \"hidden_act\": \"silu\",\n",
      "  \"hidden_size\": 4096,\n",
      "  \"initializer_range\": 0.02,\n",
      "  \"intermediate_size\": 11008,\n",
      "  \"max_position_embeddings\": 2048,\n",
      "  \"model_type\": \"llama\",\n",
      "  \"num_attention_heads\": 32,\n",
      "  \"num_hidden_layers\": 32,\n",
      "  \"num_key_value_heads\": 32,\n",
      "  \"pretraining_tp\": 1,\n",
      "  \"rms_norm_eps\": 1e-06,\n",
      "  \"rope_scaling\": null,\n",
      "  \"rope_theta\": 10000.0,\n",
      "  \"tie_word_embeddings\": false,\n",
      "  \"transformers_version\": \"4.39.3\",\n",
      "  \"use_cache\": true,\n",
      "  \"vocab_size\": 32000\n",
      "}\n",
      "\n"
     ]
    }
   ],
   "source": [
    "print(configuration)"
   ]
  },
  {
   "cell_type": "markdown",
   "id": "290e1061-40df-4bbc-9065-e6f5f1cf2a6f",
   "metadata": {},
   "source": [
    "## 2. 权重参数加载 huggingface hf格式"
   ]
  },
  {
   "cell_type": "code",
   "execution_count": null,
   "id": "ac39ad7d-2702-41b4-8fae-f9a4e9541be5",
   "metadata": {},
   "outputs": [],
   "source": [
    "import torch\n",
    "\n",
    "from transformers import LlamaForCausalLM, LlamaTokenizer\n",
    "\n",
    "MODEL_PATH = \"/opt/Data/ModelWeight/meta/llama1.hf/llama1-7b-hf\"\n",
    "\n",
    "tokenizer = LlamaTokenizer.from_pretrained(MODEL_PATH, legacy=True, use_fast=False)\n",
    "model = LlamaForCausalLM.from_pretrained(MODEL_PATH, torch_dtype=torch.float16, local_files_only=True).to('cuda')"
   ]
  },
  {
   "cell_type": "code",
   "execution_count": null,
   "id": "42fa380c-0fc7-4c37-a5cb-30ed5d264741",
   "metadata": {},
   "outputs": [],
   "source": [
    "import torch\n",
    "\n",
    "from transformers import LlamaForCausalLM, LlamaTokenizer\n",
    "\n",
    "MODEL_PATH = \"/opt/Data/ModelWeight/meta/llama1.hf/llama1-7b-hf\"\n",
    "\n",
    "tokenizer = LlamaTokenizer.from_pretrained(MODEL_PATH, legacy=True, use_fast=False)\n",
    "model = LlamaForCausalLM.from_pretrained(MODEL_PATH, torch_dtype=torch.float16, local_files_only=True).to('cuda')\n",
    "\n",
    "tokenizer.pad_token_id = tokenizer.eos_token_id"
   ]
  },
  {
   "cell_type": "markdown",
   "id": "6190fa1b-1450-46e5-8606-3bce9f0b78b8",
   "metadata": {},
   "source": [
    "<b>模型调用</b>"
   ]
  },
  {
   "cell_type": "code",
   "execution_count": 2,
   "id": "323144b3-74e5-4542-bf97-2593af413524",
   "metadata": {},
   "outputs": [
    {
     "name": "stderr",
     "output_type": "stream",
     "text": [
      "/opt/Data/PythonVenv/llama1/lib/python3.11/site-packages/transformers/generation/utils.py:1270: UserWarning: You have modified the pretrained model configuration to control generation. This is a deprecated strategy to control generation and will be removed soon, in a future version. Please use a generation configuration file (see https://huggingface.co/docs/transformers/main_classes/text_generation )\n",
      "  warnings.warn(\n"
     ]
    },
    {
     "name": "stdout",
     "output_type": "stream",
     "text": [
      "你好? 你好? 你好? 你好? 你好? 你好? 你好? 你好? 你好? 你好? 你好? 你好? 你好? 你好? 你好? 你好? 你好? 你好? 你好? 你好? 你好? 你好? 你好? 你好? 你好\n"
     ]
    }
   ],
   "source": [
    "prompt = \"你好?\"\n",
    "inputs = tokenizer(prompt, return_tensors=\"pt\")\n",
    "\n",
    "# Generate\n",
    "generate_ids = model.generate(inputs.input_ids.cuda(), max_length=100, pad_token_id=tokenizer.eos_token_id, temperature=0.7,top_p=0.1,top_k=40,do_sample=True,num_beams=1)\n",
    "result = tokenizer.batch_decode(generate_ids, skip_special_tokens=True, clean_up_tokenization_spaces=False)\n",
    "\n",
    "print(result[0])"
   ]
  },
  {
   "cell_type": "markdown",
   "id": "d95ed4eb-5e3e-4c46-9292-e08896818b84",
   "metadata": {},
   "source": [
    "### 2.1 llama2_wrapper"
   ]
  },
  {
   "cell_type": "markdown",
   "id": "dd1db9e4-ea3e-41dd-bbc4-2ebf7e06ae62",
   "metadata": {},
   "source": [
    "<b>模型加载</b>"
   ]
  },
  {
   "cell_type": "code",
   "execution_count": 1,
   "id": "1a1962fa-8e91-420f-a390-561a19a02e56",
   "metadata": {},
   "outputs": [
    {
     "name": "stdout",
     "output_type": "stream",
     "text": [
      "Running on GPU with backend torch transformers.\n"
     ]
    },
    {
     "data": {
      "application/vnd.jupyter.widget-view+json": {
       "model_id": "3eff6e279dc84c3e99da6ab15480edb2",
       "version_major": 2,
       "version_minor": 0
      },
      "text/plain": [
       "Loading checkpoint shards:   0%|          | 0/3 [00:00<?, ?it/s]"
      ]
     },
     "metadata": {},
     "output_type": "display_data"
    },
    {
     "name": "stderr",
     "output_type": "stream",
     "text": [
      "Some weights of LlamaForCausalLM were not initialized from the model checkpoint at /opt/Data/ModelWeight/meta/llama1.hf/llama1-7b-hf and are newly initialized: ['model.layers.28.self_attn.rotary_emb.inv_freq', 'model.layers.4.self_attn.rotary_emb.inv_freq', 'model.layers.10.self_attn.rotary_emb.inv_freq', 'model.layers.23.self_attn.rotary_emb.inv_freq', 'model.layers.16.self_attn.rotary_emb.inv_freq', 'model.layers.18.self_attn.rotary_emb.inv_freq', 'model.layers.14.self_attn.rotary_emb.inv_freq', 'model.layers.0.self_attn.rotary_emb.inv_freq', 'model.layers.21.self_attn.rotary_emb.inv_freq', 'model.layers.9.self_attn.rotary_emb.inv_freq', 'model.layers.6.self_attn.rotary_emb.inv_freq', 'model.layers.25.self_attn.rotary_emb.inv_freq', 'model.layers.15.self_attn.rotary_emb.inv_freq', 'model.layers.17.self_attn.rotary_emb.inv_freq', 'model.layers.8.self_attn.rotary_emb.inv_freq', 'model.layers.24.self_attn.rotary_emb.inv_freq', 'model.layers.20.self_attn.rotary_emb.inv_freq', 'model.layers.26.self_attn.rotary_emb.inv_freq', 'model.layers.31.self_attn.rotary_emb.inv_freq', 'model.layers.1.self_attn.rotary_emb.inv_freq', 'model.layers.27.self_attn.rotary_emb.inv_freq', 'model.layers.3.self_attn.rotary_emb.inv_freq', 'model.layers.11.self_attn.rotary_emb.inv_freq', 'model.layers.7.self_attn.rotary_emb.inv_freq', 'model.layers.22.self_attn.rotary_emb.inv_freq', 'model.layers.29.self_attn.rotary_emb.inv_freq', 'model.layers.30.self_attn.rotary_emb.inv_freq', 'model.layers.5.self_attn.rotary_emb.inv_freq', 'model.layers.19.self_attn.rotary_emb.inv_freq', 'model.layers.2.self_attn.rotary_emb.inv_freq', 'model.layers.12.self_attn.rotary_emb.inv_freq', 'model.layers.13.self_attn.rotary_emb.inv_freq']\n",
      "You should probably TRAIN this model on a down-stream task to be able to use it for predictions and inference.\n"
     ]
    }
   ],
   "source": [
    "from llama2_wrapper import LLAMA2_WRAPPER, get_prompt, get_prompt_for_dialog\n",
    "\n",
    "MODELPATH = \"/opt/Data/ModelWeight/meta/llama1.hf/llama1-7b-hf\"\n",
    "\n",
    "llm = LLAMA2_WRAPPER(\n",
    "\tmodel_path = MODELPATH,\n",
    "    backend_type = \"transformers\",\n",
    "    # load_in_8bit = True\n",
    ")"
   ]
  },
  {
   "cell_type": "markdown",
   "id": "868041e2-124f-4cbd-b3cf-9c6b1bea80f9",
   "metadata": {},
   "source": [
    "<b>模型调用</b>"
   ]
  },
  {
   "cell_type": "code",
   "execution_count": null,
   "id": "a8b397f5-14a8-4a8e-9722-75295525d0c8",
   "metadata": {},
   "outputs": [],
   "source": [
    "prompt = \"I feel good.\"\n",
    "answer = llm(get_prompt(prompt), temperature=0.9)\n",
    "print(answer)"
   ]
  },
  {
   "cell_type": "markdown",
   "id": "b70e1aeb-7224-4412-9800-082c17d17ea2",
   "metadata": {},
   "source": [
    "<b>会话聊天</b>"
   ]
  },
  {
   "cell_type": "code",
   "execution_count": null,
   "id": "9b953d14-52c8-4a77-839e-2b67a0dc413b",
   "metadata": {},
   "outputs": [],
   "source": [
    "dialog = [\n",
    "    {\n",
    "        \"role\":\"system\",\n",
    "        \"content\":\"You are a helpful, respectful and honest assistant. \"\n",
    "    },{\n",
    "        \"role\":\"user\",\n",
    "        \"content\":\"Hi do you know Pytorch?\",\n",
    "    },\n",
    "]\n",
    "result = llm.chat_completion(dialog)"
   ]
  },
  {
   "cell_type": "code",
   "execution_count": null,
   "id": "68631cc9-5bd9-4ea1-872f-28ae5befb98a",
   "metadata": {},
   "outputs": [],
   "source": [
    "print(result[\"choices\"][0][\"message\"][\"content\"])"
   ]
  },
  {
   "cell_type": "markdown",
   "id": "7c375bd4-3d13-4a1a-8683-f5dada755ce4",
   "metadata": {},
   "source": [
    "<b>流式输出</b>"
   ]
  },
  {
   "cell_type": "code",
   "execution_count": null,
   "id": "39564e4e-7f1b-4114-8c8b-d7ea2349fe3a",
   "metadata": {},
   "outputs": [],
   "source": [
    "prompt = get_prompt(\"Hi do you know Pytorch?\")\n",
    "for response in llm.generate(prompt):\n",
    "\tprint(response)"
   ]
  }
 ],
 "metadata": {
  "kernelspec": {
   "display_name": "Python 3 (ipykernel)",
   "language": "python",
   "name": "python3"
  },
  "language_info": {
   "codemirror_mode": {
    "name": "ipython",
    "version": 3
   },
   "file_extension": ".py",
   "mimetype": "text/x-python",
   "name": "python",
   "nbconvert_exporter": "python",
   "pygments_lexer": "ipython3",
   "version": "3.11.2"
  }
 },
 "nbformat": 4,
 "nbformat_minor": 5
}
